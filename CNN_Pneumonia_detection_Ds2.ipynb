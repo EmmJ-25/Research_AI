{
  "nbformat": 4,
  "nbformat_minor": 0,
  "metadata": {
    "colab": {
      "provenance": []
    },
    "kernelspec": {
      "name": "python3",
      "display_name": "Python 3"
    },
    "language_info": {
      "name": "python"
    }
  },
  "cells": [
    {
      "cell_type": "markdown",
      "source": [
        "#EXPLANATION AND UPLOAD OF THE DATASET"
      ],
      "metadata": {
        "id": "JKvSuTZne0Vh"
      }
    },
    {
      "cell_type": "markdown",
      "source": [
        "This bloque of code is for installing three packages to work with neuroal networks and image processing.\n",
        "\n",
        "- tfds-nightly allows to access preset datasets easely\n",
        "- tensorflow is for deep learning models\n",
        "- matplotlip is for graphics and images"
      ],
      "metadata": {
        "id": "EPpSkQFO_fYi"
      }
    },
    {
      "cell_type": "code",
      "source": [
        "!pip install -q tfds-nightly tensorflow matplotlib\n",
        "import matplotlib.pyplot as plt\n",
        "import numpy as np\n",
        "import tensorflow as tf\n",
        "\n",
        "import tensorflow_datasets as tfds"
      ],
      "metadata": {
        "id": "atzDl18xeU8m"
      },
      "execution_count": null,
      "outputs": []
    },
    {
      "cell_type": "markdown",
      "source": [
        "Here we load the dataset with a format suitable for supervised training, where each sample is a tuple (image, label), selecting 10 samples of the dataset\n",
        "\n"
      ],
      "metadata": {
        "id": "aeOAGjAbGmCt"
      }
    },
    {
      "cell_type": "markdown",
      "source": [
        "Heres, the dataset is again upload but with the additional atribute << with_info = True >> Which uploads the dtaset and the additional data about it, the metadata. This is the number of clases, number of samples, its size and other characteristics.\n",
        "\n",
        "the second line creates a dataframe with the first 4 samples and visualize it as an image."
      ],
      "metadata": {
        "id": "ZsBAB8rDH8be"
      }
    },
    {
      "cell_type": "markdown",
      "source": [
        "This access the metadata of the dataset uploaded stored in info."
      ],
      "metadata": {
        "id": "YiwxJ9qnJJTR"
      }
    },
    {
      "cell_type": "code",
      "source": [
        "import pandas as pd\n",
        "# Load dataset with access to the metadata\n",
        "ds, info = tfds.load('pneumonia_mnist', with_info=True)\n",
        "builder = tfds.builder('pneumonia_mnist')\n",
        "info = builder.info\n",
        "print(info)\n",
        "\n",
        "\n",
        "\n"
      ],
      "metadata": {
        "colab": {
          "base_uri": "https://localhost:8080/",
          "height": 1000
        },
        "id": "AtNy0w0apxso",
        "outputId": "906710e4-7159-4b14-a2da-d5e51ce9ee85",
        "collapsed": true
      },
      "execution_count": null,
      "outputs": [
        {
          "output_type": "stream",
          "name": "stdout",
          "text": [
            "tfds.core.DatasetInfo(\n",
            "    name='pneumonia_mnist',\n",
            "    full_name='pneumonia_mnist/1.0.0',\n",
            "    description=\"\"\"\n",
            "    # MedMNIST Pneumonia Dataset\n",
            "    \n",
            "    The PneumoniaMNIST is based on a prior dataset of 5,856 pediatric chest X-Ray\n",
            "    images. The task is binary-class classification of pneumonia against normal. The\n",
            "    source training set is split with a ratio of 9:1 into training and validation\n",
            "    set, and use its source validation set as the test set. The source images are\n",
            "    gray-scale, and their sizes are (384–2,916) × (127–2,713). The images are\n",
            "    center-cropped with a window size of length of the short edge and resized into 1\n",
            "    × 28 × 28.\n",
            "    \"\"\",\n",
            "    homepage='https://medmnist.com//',\n",
            "    data_dir='/root/tensorflow_datasets/pneumonia_mnist/1.0.0',\n",
            "    file_format=tfrecord,\n",
            "    download_size=3.98 MiB,\n",
            "    dataset_size=3.66 MiB,\n",
            "    features=FeaturesDict({\n",
            "        'image': Image(shape=(28, 28, 1), dtype=uint8),\n",
            "        'label': ClassLabel(shape=(), dtype=int64, num_classes=2),\n",
            "    }),\n",
            "    supervised_keys=('image', 'label'),\n",
            "    disable_shuffling=False,\n",
            "    nondeterministic_order=False,\n",
            "    splits={\n",
            "        'test': <SplitInfo num_examples=624, num_shards=1>,\n",
            "        'train': <SplitInfo num_examples=4708, num_shards=1>,\n",
            "        'val': <SplitInfo num_examples=524, num_shards=1>,\n",
            "    },\n",
            "    citation=\"\"\"@article{yang2023medmnist,\n",
            "      title={Medmnist v2-a large-scale lightweight benchmark for 2d and 3d biomedical image classification},\n",
            "      author={Yang, Jiancheng and Shi, Rui and Wei, Donglai and Liu, Zequan and Zhao, Lin and Ke, Bilian and Pfister, Hanspeter and Ni, Bingbing},\n",
            "      journal={Scientific Data},\n",
            "      volume={10},\n",
            "      number={1},\n",
            "      pages={41},\n",
            "      year={2023},\n",
            "      publisher={Nature Publishing Group UK London}\n",
            "    }\"\"\",\n",
            ")\n"
          ]
        },
        {
          "output_type": "error",
          "ename": "ValueError",
          "evalue": "All arrays must be of the same length",
          "traceback": [
            "\u001b[0;31m---------------------------------------------------------------------------\u001b[0m",
            "\u001b[0;31mValueError\u001b[0m                                Traceback (most recent call last)",
            "\u001b[0;32m<ipython-input-8-622a5efa09cd>\u001b[0m in \u001b[0;36m<cell line: 8>\u001b[0;34m()\u001b[0m\n\u001b[1;32m      6\u001b[0m \u001b[0mprint\u001b[0m\u001b[0;34m(\u001b[0m\u001b[0minfo\u001b[0m\u001b[0;34m)\u001b[0m\u001b[0;34m\u001b[0m\u001b[0;34m\u001b[0m\u001b[0m\n\u001b[1;32m      7\u001b[0m \u001b[0;34m\u001b[0m\u001b[0m\n\u001b[0;32m----> 8\u001b[0;31m \u001b[0mdf\u001b[0m \u001b[0;34m=\u001b[0m \u001b[0mpd\u001b[0m\u001b[0;34m.\u001b[0m\u001b[0mDataFrame\u001b[0m\u001b[0;34m(\u001b[0m\u001b[0mds\u001b[0m\u001b[0;34m)\u001b[0m\u001b[0;34m\u001b[0m\u001b[0;34m\u001b[0m\u001b[0m\n\u001b[0m\u001b[1;32m      9\u001b[0m \u001b[0mdf\u001b[0m\u001b[0;34m[\u001b[0m\u001b[0;34m'Proportion'\u001b[0m\u001b[0;34m]\u001b[0m \u001b[0;34m=\u001b[0m \u001b[0mdf\u001b[0m\u001b[0;34m[\u001b[0m\u001b[0;34m'Count'\u001b[0m\u001b[0;34m]\u001b[0m \u001b[0;34m/\u001b[0m \u001b[0mdf\u001b[0m\u001b[0;34m[\u001b[0m\u001b[0;34m'Count'\u001b[0m\u001b[0;34m]\u001b[0m\u001b[0;34m.\u001b[0m\u001b[0msum\u001b[0m\u001b[0;34m(\u001b[0m\u001b[0;34m)\u001b[0m\u001b[0;34m\u001b[0m\u001b[0;34m\u001b[0m\u001b[0m\n\u001b[1;32m     10\u001b[0m \u001b[0;34m\u001b[0m\u001b[0m\n",
            "\u001b[0;32m/usr/local/lib/python3.10/dist-packages/pandas/core/frame.py\u001b[0m in \u001b[0;36m__init__\u001b[0;34m(self, data, index, columns, dtype, copy)\u001b[0m\n\u001b[1;32m    776\u001b[0m         \u001b[0;32melif\u001b[0m \u001b[0misinstance\u001b[0m\u001b[0;34m(\u001b[0m\u001b[0mdata\u001b[0m\u001b[0;34m,\u001b[0m \u001b[0mdict\u001b[0m\u001b[0;34m)\u001b[0m\u001b[0;34m:\u001b[0m\u001b[0;34m\u001b[0m\u001b[0;34m\u001b[0m\u001b[0m\n\u001b[1;32m    777\u001b[0m             \u001b[0;31m# GH#38939 de facto copy defaults to False only in non-dict cases\u001b[0m\u001b[0;34m\u001b[0m\u001b[0;34m\u001b[0m\u001b[0m\n\u001b[0;32m--> 778\u001b[0;31m             \u001b[0mmgr\u001b[0m \u001b[0;34m=\u001b[0m \u001b[0mdict_to_mgr\u001b[0m\u001b[0;34m(\u001b[0m\u001b[0mdata\u001b[0m\u001b[0;34m,\u001b[0m \u001b[0mindex\u001b[0m\u001b[0;34m,\u001b[0m \u001b[0mcolumns\u001b[0m\u001b[0;34m,\u001b[0m \u001b[0mdtype\u001b[0m\u001b[0;34m=\u001b[0m\u001b[0mdtype\u001b[0m\u001b[0;34m,\u001b[0m \u001b[0mcopy\u001b[0m\u001b[0;34m=\u001b[0m\u001b[0mcopy\u001b[0m\u001b[0;34m,\u001b[0m \u001b[0mtyp\u001b[0m\u001b[0;34m=\u001b[0m\u001b[0mmanager\u001b[0m\u001b[0;34m)\u001b[0m\u001b[0;34m\u001b[0m\u001b[0;34m\u001b[0m\u001b[0m\n\u001b[0m\u001b[1;32m    779\u001b[0m         \u001b[0;32melif\u001b[0m \u001b[0misinstance\u001b[0m\u001b[0;34m(\u001b[0m\u001b[0mdata\u001b[0m\u001b[0;34m,\u001b[0m \u001b[0mma\u001b[0m\u001b[0;34m.\u001b[0m\u001b[0mMaskedArray\u001b[0m\u001b[0;34m)\u001b[0m\u001b[0;34m:\u001b[0m\u001b[0;34m\u001b[0m\u001b[0;34m\u001b[0m\u001b[0m\n\u001b[1;32m    780\u001b[0m             \u001b[0;32mfrom\u001b[0m \u001b[0mnumpy\u001b[0m\u001b[0;34m.\u001b[0m\u001b[0mma\u001b[0m \u001b[0;32mimport\u001b[0m \u001b[0mmrecords\u001b[0m\u001b[0;34m\u001b[0m\u001b[0;34m\u001b[0m\u001b[0m\n",
            "\u001b[0;32m/usr/local/lib/python3.10/dist-packages/pandas/core/internals/construction.py\u001b[0m in \u001b[0;36mdict_to_mgr\u001b[0;34m(data, index, columns, dtype, typ, copy)\u001b[0m\n\u001b[1;32m    501\u001b[0m             \u001b[0marrays\u001b[0m \u001b[0;34m=\u001b[0m \u001b[0;34m[\u001b[0m\u001b[0mx\u001b[0m\u001b[0;34m.\u001b[0m\u001b[0mcopy\u001b[0m\u001b[0;34m(\u001b[0m\u001b[0;34m)\u001b[0m \u001b[0;32mif\u001b[0m \u001b[0mhasattr\u001b[0m\u001b[0;34m(\u001b[0m\u001b[0mx\u001b[0m\u001b[0;34m,\u001b[0m \u001b[0;34m\"dtype\"\u001b[0m\u001b[0;34m)\u001b[0m \u001b[0;32melse\u001b[0m \u001b[0mx\u001b[0m \u001b[0;32mfor\u001b[0m \u001b[0mx\u001b[0m \u001b[0;32min\u001b[0m \u001b[0marrays\u001b[0m\u001b[0;34m]\u001b[0m\u001b[0;34m\u001b[0m\u001b[0;34m\u001b[0m\u001b[0m\n\u001b[1;32m    502\u001b[0m \u001b[0;34m\u001b[0m\u001b[0m\n\u001b[0;32m--> 503\u001b[0;31m     \u001b[0;32mreturn\u001b[0m \u001b[0marrays_to_mgr\u001b[0m\u001b[0;34m(\u001b[0m\u001b[0marrays\u001b[0m\u001b[0;34m,\u001b[0m \u001b[0mcolumns\u001b[0m\u001b[0;34m,\u001b[0m \u001b[0mindex\u001b[0m\u001b[0;34m,\u001b[0m \u001b[0mdtype\u001b[0m\u001b[0;34m=\u001b[0m\u001b[0mdtype\u001b[0m\u001b[0;34m,\u001b[0m \u001b[0mtyp\u001b[0m\u001b[0;34m=\u001b[0m\u001b[0mtyp\u001b[0m\u001b[0;34m,\u001b[0m \u001b[0mconsolidate\u001b[0m\u001b[0;34m=\u001b[0m\u001b[0mcopy\u001b[0m\u001b[0;34m)\u001b[0m\u001b[0;34m\u001b[0m\u001b[0;34m\u001b[0m\u001b[0m\n\u001b[0m\u001b[1;32m    504\u001b[0m \u001b[0;34m\u001b[0m\u001b[0m\n\u001b[1;32m    505\u001b[0m \u001b[0;34m\u001b[0m\u001b[0m\n",
            "\u001b[0;32m/usr/local/lib/python3.10/dist-packages/pandas/core/internals/construction.py\u001b[0m in \u001b[0;36marrays_to_mgr\u001b[0;34m(arrays, columns, index, dtype, verify_integrity, typ, consolidate)\u001b[0m\n\u001b[1;32m    112\u001b[0m         \u001b[0;31m# figure out the index, if necessary\u001b[0m\u001b[0;34m\u001b[0m\u001b[0;34m\u001b[0m\u001b[0m\n\u001b[1;32m    113\u001b[0m         \u001b[0;32mif\u001b[0m \u001b[0mindex\u001b[0m \u001b[0;32mis\u001b[0m \u001b[0;32mNone\u001b[0m\u001b[0;34m:\u001b[0m\u001b[0;34m\u001b[0m\u001b[0;34m\u001b[0m\u001b[0m\n\u001b[0;32m--> 114\u001b[0;31m             \u001b[0mindex\u001b[0m \u001b[0;34m=\u001b[0m \u001b[0m_extract_index\u001b[0m\u001b[0;34m(\u001b[0m\u001b[0marrays\u001b[0m\u001b[0;34m)\u001b[0m\u001b[0;34m\u001b[0m\u001b[0;34m\u001b[0m\u001b[0m\n\u001b[0m\u001b[1;32m    115\u001b[0m         \u001b[0;32melse\u001b[0m\u001b[0;34m:\u001b[0m\u001b[0;34m\u001b[0m\u001b[0;34m\u001b[0m\u001b[0m\n\u001b[1;32m    116\u001b[0m             \u001b[0mindex\u001b[0m \u001b[0;34m=\u001b[0m \u001b[0mensure_index\u001b[0m\u001b[0;34m(\u001b[0m\u001b[0mindex\u001b[0m\u001b[0;34m)\u001b[0m\u001b[0;34m\u001b[0m\u001b[0;34m\u001b[0m\u001b[0m\n",
            "\u001b[0;32m/usr/local/lib/python3.10/dist-packages/pandas/core/internals/construction.py\u001b[0m in \u001b[0;36m_extract_index\u001b[0;34m(data)\u001b[0m\n\u001b[1;32m    675\u001b[0m         \u001b[0mlengths\u001b[0m \u001b[0;34m=\u001b[0m \u001b[0mlist\u001b[0m\u001b[0;34m(\u001b[0m\u001b[0mset\u001b[0m\u001b[0;34m(\u001b[0m\u001b[0mraw_lengths\u001b[0m\u001b[0;34m)\u001b[0m\u001b[0;34m)\u001b[0m\u001b[0;34m\u001b[0m\u001b[0;34m\u001b[0m\u001b[0m\n\u001b[1;32m    676\u001b[0m         \u001b[0;32mif\u001b[0m \u001b[0mlen\u001b[0m\u001b[0;34m(\u001b[0m\u001b[0mlengths\u001b[0m\u001b[0;34m)\u001b[0m \u001b[0;34m>\u001b[0m \u001b[0;36m1\u001b[0m\u001b[0;34m:\u001b[0m\u001b[0;34m\u001b[0m\u001b[0;34m\u001b[0m\u001b[0m\n\u001b[0;32m--> 677\u001b[0;31m             \u001b[0;32mraise\u001b[0m \u001b[0mValueError\u001b[0m\u001b[0;34m(\u001b[0m\u001b[0;34m\"All arrays must be of the same length\"\u001b[0m\u001b[0;34m)\u001b[0m\u001b[0;34m\u001b[0m\u001b[0;34m\u001b[0m\u001b[0m\n\u001b[0m\u001b[1;32m    678\u001b[0m \u001b[0;34m\u001b[0m\u001b[0m\n\u001b[1;32m    679\u001b[0m         \u001b[0;32mif\u001b[0m \u001b[0mhave_dicts\u001b[0m\u001b[0;34m:\u001b[0m\u001b[0;34m\u001b[0m\u001b[0;34m\u001b[0m\u001b[0m\n",
            "\u001b[0;31mValueError\u001b[0m: All arrays must be of the same length"
          ]
        }
      ]
    },
    {
      "cell_type": "markdown",
      "source": [
        "# UPLOAD AND PROCESSING OF THE DATA AND IMPLEMENTATION OF THE MODEL"
      ],
      "metadata": {
        "id": "oQY6Sa9tKZQr"
      }
    },
    {
      "cell_type": "code",
      "source": [
        "!pip install -q tfds-nightly tensorflow matplotlib\n",
        "import numpy as np\n",
        "import tensorflow as tf\n",
        "import tensorflow_datasets as tfds\n",
        "from imblearn.over_sampling import SMOTE\n",
        "import pandas as pd\n",
        "import matplotlib.pyplot as plt\n",
        "\n",
        "#datset train and test\n",
        "\n",
        "# Load training set as dataframe\n",
        "ds_train, info_train = tfds.load('pneumonia_mnist', split='train', with_info=True)\n",
        "ds_test, info_test = tfds.load('pneumonia_mnist', split='test', with_info=True)\n",
        "#size = len(ds_train)\n",
        "\n",
        "print(\"INFO TRAIN\")\n",
        "print(info_train)\n",
        "\n",
        "print(\"*\"*100)\n",
        "print(\"INFO TEST\")\n",
        "print(info_test)\n",
        "\n",
        "df_train = tfds.as_dataframe(ds_train, info_train)\n",
        "df_test = tfds.as_dataframe(ds_test, info_train)\n",
        "print(\"*\"*100)\n",
        "print(\"Number of samples of the training set\", info_train.splits['train'].num_examples)\n",
        "print(\"Number of samples of the test set\", info_test.splits['test'].num_examples)\n",
        "print(\"Balance of clases within the training\")\n",
        "print(df_train['label'].value_counts())\n",
        "print(\"Balance of the clases within the training\")\n",
        "print(df_test['label'].value_counts())\n",
        "\n",
        "\n",
        "unique_labels, counts = np.unique(np.array(df_train['label']), return_counts=True)\n",
        "proportions = counts / counts.sum()\n",
        "\n",
        "print()\n",
        "# Plot a bar chart for the proportions\n",
        "plt.bar(unique_labels, proportions, color='skyblue')\n",
        "plt.xticks(unique_labels, ['Class 0', 'Class 1'])\n",
        "plt.xlabel('Class')\n",
        "plt.ylabel('Proportion')\n",
        "plt.title('Proportion of Classes')\n",
        "plt.show()"
      ],
      "metadata": {
        "colab": {
          "base_uri": "https://localhost:8080/",
          "height": 1000
        },
        "id": "1uyttG-qXK9j",
        "outputId": "7a8d5647-0d5f-4292-8a42-79664f838680"
      },
      "execution_count": null,
      "outputs": [
        {
          "output_type": "stream",
          "name": "stdout",
          "text": [
            "INFO TRAIN\n",
            "tfds.core.DatasetInfo(\n",
            "    name='pneumonia_mnist',\n",
            "    full_name='pneumonia_mnist/1.0.0',\n",
            "    description=\"\"\"\n",
            "    # MedMNIST Pneumonia Dataset\n",
            "    \n",
            "    The PneumoniaMNIST is based on a prior dataset of 5,856 pediatric chest X-Ray\n",
            "    images. The task is binary-class classification of pneumonia against normal. The\n",
            "    source training set is split with a ratio of 9:1 into training and validation\n",
            "    set, and use its source validation set as the test set. The source images are\n",
            "    gray-scale, and their sizes are (384–2,916) × (127–2,713). The images are\n",
            "    center-cropped with a window size of length of the short edge and resized into 1\n",
            "    × 28 × 28.\n",
            "    \"\"\",\n",
            "    homepage='https://medmnist.com//',\n",
            "    data_dir='/root/tensorflow_datasets/pneumonia_mnist/1.0.0',\n",
            "    file_format=tfrecord,\n",
            "    download_size=3.98 MiB,\n",
            "    dataset_size=3.66 MiB,\n",
            "    features=FeaturesDict({\n",
            "        'image': Image(shape=(28, 28, 1), dtype=uint8),\n",
            "        'label': ClassLabel(shape=(), dtype=int64, num_classes=2),\n",
            "    }),\n",
            "    supervised_keys=('image', 'label'),\n",
            "    disable_shuffling=False,\n",
            "    nondeterministic_order=False,\n",
            "    splits={\n",
            "        'test': <SplitInfo num_examples=624, num_shards=1>,\n",
            "        'train': <SplitInfo num_examples=4708, num_shards=1>,\n",
            "        'val': <SplitInfo num_examples=524, num_shards=1>,\n",
            "    },\n",
            "    citation=\"\"\"@article{yang2023medmnist,\n",
            "      title={Medmnist v2-a large-scale lightweight benchmark for 2d and 3d biomedical image classification},\n",
            "      author={Yang, Jiancheng and Shi, Rui and Wei, Donglai and Liu, Zequan and Zhao, Lin and Ke, Bilian and Pfister, Hanspeter and Ni, Bingbing},\n",
            "      journal={Scientific Data},\n",
            "      volume={10},\n",
            "      number={1},\n",
            "      pages={41},\n",
            "      year={2023},\n",
            "      publisher={Nature Publishing Group UK London}\n",
            "    }\"\"\",\n",
            ")\n",
            "****************************************************************************************************\n",
            "INFO TEST\n",
            "tfds.core.DatasetInfo(\n",
            "    name='pneumonia_mnist',\n",
            "    full_name='pneumonia_mnist/1.0.0',\n",
            "    description=\"\"\"\n",
            "    # MedMNIST Pneumonia Dataset\n",
            "    \n",
            "    The PneumoniaMNIST is based on a prior dataset of 5,856 pediatric chest X-Ray\n",
            "    images. The task is binary-class classification of pneumonia against normal. The\n",
            "    source training set is split with a ratio of 9:1 into training and validation\n",
            "    set, and use its source validation set as the test set. The source images are\n",
            "    gray-scale, and their sizes are (384–2,916) × (127–2,713). The images are\n",
            "    center-cropped with a window size of length of the short edge and resized into 1\n",
            "    × 28 × 28.\n",
            "    \"\"\",\n",
            "    homepage='https://medmnist.com//',\n",
            "    data_dir='/root/tensorflow_datasets/pneumonia_mnist/1.0.0',\n",
            "    file_format=tfrecord,\n",
            "    download_size=3.98 MiB,\n",
            "    dataset_size=3.66 MiB,\n",
            "    features=FeaturesDict({\n",
            "        'image': Image(shape=(28, 28, 1), dtype=uint8),\n",
            "        'label': ClassLabel(shape=(), dtype=int64, num_classes=2),\n",
            "    }),\n",
            "    supervised_keys=('image', 'label'),\n",
            "    disable_shuffling=False,\n",
            "    nondeterministic_order=False,\n",
            "    splits={\n",
            "        'test': <SplitInfo num_examples=624, num_shards=1>,\n",
            "        'train': <SplitInfo num_examples=4708, num_shards=1>,\n",
            "        'val': <SplitInfo num_examples=524, num_shards=1>,\n",
            "    },\n",
            "    citation=\"\"\"@article{yang2023medmnist,\n",
            "      title={Medmnist v2-a large-scale lightweight benchmark for 2d and 3d biomedical image classification},\n",
            "      author={Yang, Jiancheng and Shi, Rui and Wei, Donglai and Liu, Zequan and Zhao, Lin and Ke, Bilian and Pfister, Hanspeter and Ni, Bingbing},\n",
            "      journal={Scientific Data},\n",
            "      volume={10},\n",
            "      number={1},\n",
            "      pages={41},\n",
            "      year={2023},\n",
            "      publisher={Nature Publishing Group UK London}\n",
            "    }\"\"\",\n",
            ")\n",
            "****************************************************************************************************\n",
            "Number of samples of the training set 4708\n",
            "Number of samples of the test set 624\n",
            "Balance of clases within the training\n",
            "label\n",
            "1    3494\n",
            "0    1214\n",
            "Name: count, dtype: int64\n",
            "Balance of the clases within the training\n",
            "label\n",
            "1    390\n",
            "0    234\n",
            "Name: count, dtype: int64\n",
            "\n"
          ]
        },
        {
          "output_type": "display_data",
          "data": {
            "text/plain": [
              "<Figure size 640x480 with 1 Axes>"
            ],
            "image/png": "[encoded data removed]"
          },
          "metadata": {}
        }
      ]
    },
    {
      "cell_type": "code",
      "source": [
        "\n",
        "\n",
        "#NORMALIZATION\n",
        "\n",
        "image_train = df_train['image']\n",
        "image_test = df_test['image']\n",
        "\n",
        "#show\n",
        "#example = ds_train.take(1)\n",
        "print(\"Image: \", tfds.show_examples(ds_train,info_train))\n",
        "\n",
        "\n",
        "print(\"Shape of the training set\",image_train.shape)\n",
        "\n",
        "df_train['image'] = image_train /255.0\n",
        "df_test ['image'] = image_test / 255.0\n",
        "\n",
        "print(\"DATAFRAME TRAIN\\n\", df_train)\n",
        "#obtain classes of the dataset\n",
        "classes = info_train.features['label'].names\n",
        "print(\"Clases of the dataset --> \",classes)\n",
        "\n",
        "\n",
        "smote = SMOTE(sampling_strategy='auto', random_state=42)\n",
        "X_train = np.array(df_train['image'].tolist())\n",
        "X_train = X_train.reshape(X_train.shape[0], -1)\n",
        "\n",
        "\n",
        "y_train = np.array(df_train['label'])\n",
        "\n",
        "#np.arrays X_resampled, y_resampled\n",
        "X_resampled, y_resampled = smote.fit_resample(X_train, y_train)\n",
        "X_resampled = X_resampled.reshape(X_resampled.shape[0], 28, 28, 1)\n",
        "\n",
        "#np.array test\n",
        "X_test = np.array(df_test['image'].tolist())\n",
        "X_test = X_test.reshape(X_test.shape[0], 28, 28, 1)\n",
        "y_test = np.array(df_test['label'].tolist())\n",
        "\n",
        "print(\"*\"*100)\n",
        "print(\"SMOTE APPIED\")\n",
        "print( pd.Series(y_resampled).value_counts())\n",
        "\n",
        "print(\"X_test\", X_test)\n",
        "print(\"*\"*100)\n",
        "print(\"Y_TEST\", y_test)\n"
      ],
      "metadata": {
        "colab": {
          "base_uri": "https://localhost:8080/",
          "height": 1000
        },
        "id": "URqMj8GwMmv_",
        "outputId": "a30e3526-d389-4ee1-a8ac-652293d6bcfa"
      },
      "execution_count": null,
      "outputs": [
        {
          "output_type": "display_data",
          "data": {
            "text/plain": [
              "<Figure size 900x900 with 9 Axes>"
            ],
            "image/png": "[encoded data removed]"
          },
          "metadata": {}
        },
        {
          "output_type": "stream",
          "name": "stdout",
          "text": [
            "Image:  Figure(900x900)\n",
            "Shape of the training set (4708,)\n",
            "DATAFRAME TRAIN\n",
            "                                                   image  label\n",
            "0     [[[0.5529411764705883], [0.5450980392156862], ...      0\n",
            "1     [[[0.21568627450980393], [0.23137254901960785]...      1\n",
            "2     [[[0.07450980392156863], [0.11764705882352941]...      0\n",
            "3     [[[0.2980392156862745], [0.2235294117647059], ...      1\n",
            "4     [[[0.23137254901960785], [0.25882352941176473]...      0\n",
            "...                                                 ...    ...\n",
            "4703  [[[0.11764705882352941], [0.12156862745098039]...      1\n",
            "4704  [[[0.41568627450980394], [0.43529411764705883]...      1\n",
            "4705  [[[0.4], [0.3215686274509804], [0.270588235294...      0\n",
            "4706  [[[0.30980392156862746], [0.34509803921568627]...      1\n",
            "4707  [[[0.25098039215686274], [0.24313725490196078]...      1\n",
            "\n",
            "[4708 rows x 2 columns]\n",
            "Clases of the dataset -->  ['Normal', 'Pneumonia']\n",
            "****************************************************************************************************\n",
            "SMOTE APPIED\n",
            "0    3494\n",
            "1    3494\n",
            "Name: count, dtype: int64\n",
            "X_test [[[[0.4       ]\n",
            "   [0.31764706]\n",
            "   [0.31372549]\n",
            "   ...\n",
            "   [0.19215686]\n",
            "   [0.2       ]\n",
            "   [0.21960784]]\n",
            "\n",
            "  [[0.36470588]\n",
            "   [0.42745098]\n",
            "   [0.43921569]\n",
            "   ...\n",
            "   [0.31372549]\n",
            "   [0.29803922]\n",
            "   [0.29019608]]\n",
            "\n",
            "  [[0.39215686]\n",
            "   [0.40784314]\n",
            "   [0.4627451 ]\n",
            "   ...\n",
            "   [0.38823529]\n",
            "   [0.35686275]\n",
            "   [0.32941176]]\n",
            "\n",
            "  ...\n",
            "\n",
            "  [[0.70196078]\n",
            "   [0.72941176]\n",
            "   [0.76078431]\n",
            "   ...\n",
            "   [0.62745098]\n",
            "   [0.54509804]\n",
            "   [0.49803922]]\n",
            "\n",
            "  [[0.74117647]\n",
            "   [0.76078431]\n",
            "   [0.77647059]\n",
            "   ...\n",
            "   [0.70196078]\n",
            "   [0.63921569]\n",
            "   [0.59215686]]\n",
            "\n",
            "  [[0.73333333]\n",
            "   [0.74901961]\n",
            "   [0.76470588]\n",
            "   ...\n",
            "   [0.74509804]\n",
            "   [0.70980392]\n",
            "   [0.66666667]]]\n",
            "\n",
            "\n",
            " [[[0.54117647]\n",
            "   [0.45098039]\n",
            "   [0.38823529]\n",
            "   ...\n",
            "   [0.56078431]\n",
            "   [0.54509804]\n",
            "   [0.53333333]]\n",
            "\n",
            "  [[0.56862745]\n",
            "   [0.5372549 ]\n",
            "   [0.5372549 ]\n",
            "   ...\n",
            "   [0.62352941]\n",
            "   [0.60784314]\n",
            "   [0.59607843]]\n",
            "\n",
            "  [[0.6       ]\n",
            "   [0.6       ]\n",
            "   [0.62745098]\n",
            "   ...\n",
            "   [0.67058824]\n",
            "   [0.65490196]\n",
            "   [0.64705882]]\n",
            "\n",
            "  ...\n",
            "\n",
            "  [[0.60392157]\n",
            "   [0.67058824]\n",
            "   [0.74117647]\n",
            "   ...\n",
            "   [0.76470588]\n",
            "   [0.74117647]\n",
            "   [0.7254902 ]]\n",
            "\n",
            "  [[0.69803922]\n",
            "   [0.75294118]\n",
            "   [0.8       ]\n",
            "   ...\n",
            "   [0.77254902]\n",
            "   [0.76470588]\n",
            "   [0.76470588]]\n",
            "\n",
            "  [[0.7254902 ]\n",
            "   [0.76862745]\n",
            "   [0.80784314]\n",
            "   ...\n",
            "   [0.77647059]\n",
            "   [0.76470588]\n",
            "   [0.76078431]]]\n",
            "\n",
            "\n",
            " [[[0.45098039]\n",
            "   [0.43137255]\n",
            "   [0.36470588]\n",
            "   ...\n",
            "   [0.45490196]\n",
            "   [0.48627451]\n",
            "   [0.50980392]]\n",
            "\n",
            "  [[0.45098039]\n",
            "   [0.46666667]\n",
            "   [0.44705882]\n",
            "   ...\n",
            "   [0.51764706]\n",
            "   [0.50588235]\n",
            "   [0.51764706]]\n",
            "\n",
            "  [[0.46666667]\n",
            "   [0.5254902 ]\n",
            "   [0.56078431]\n",
            "   ...\n",
            "   [0.56862745]\n",
            "   [0.5254902 ]\n",
            "   [0.5254902 ]]\n",
            "\n",
            "  ...\n",
            "\n",
            "  [[0.64313725]\n",
            "   [0.65882353]\n",
            "   [0.67843137]\n",
            "   ...\n",
            "   [0.62745098]\n",
            "   [0.57647059]\n",
            "   [0.5372549 ]]\n",
            "\n",
            "  [[0.69411765]\n",
            "   [0.6745098 ]\n",
            "   [0.66666667]\n",
            "   ...\n",
            "   [0.64313725]\n",
            "   [0.63529412]\n",
            "   [0.63529412]]\n",
            "\n",
            "  [[0.6745098 ]\n",
            "   [0.65882353]\n",
            "   [0.66666667]\n",
            "   ...\n",
            "   [0.63921569]\n",
            "   [0.65490196]\n",
            "   [0.68627451]]]\n",
            "\n",
            "\n",
            " ...\n",
            "\n",
            "\n",
            " [[[0.2627451 ]\n",
            "   [0.34901961]\n",
            "   [0.34117647]\n",
            "   ...\n",
            "   [0.16470588]\n",
            "   [0.17254902]\n",
            "   [0.19215686]]\n",
            "\n",
            "  [[0.41176471]\n",
            "   [0.56862745]\n",
            "   [0.54901961]\n",
            "   ...\n",
            "   [0.21568627]\n",
            "   [0.21960784]\n",
            "   [0.23137255]]\n",
            "\n",
            "  [[0.40784314]\n",
            "   [0.54117647]\n",
            "   [0.5254902 ]\n",
            "   ...\n",
            "   [0.23529412]\n",
            "   [0.22352941]\n",
            "   [0.24313725]]\n",
            "\n",
            "  ...\n",
            "\n",
            "  [[0.69019608]\n",
            "   [0.69019608]\n",
            "   [0.68627451]\n",
            "   ...\n",
            "   [0.58431373]\n",
            "   [0.56078431]\n",
            "   [0.54117647]]\n",
            "\n",
            "  [[0.69019608]\n",
            "   [0.69019608]\n",
            "   [0.68627451]\n",
            "   ...\n",
            "   [0.60784314]\n",
            "   [0.58431373]\n",
            "   [0.56470588]]\n",
            "\n",
            "  [[0.69019608]\n",
            "   [0.69019608]\n",
            "   [0.69019608]\n",
            "   ...\n",
            "   [0.60784314]\n",
            "   [0.58431373]\n",
            "   [0.56470588]]]\n",
            "\n",
            "\n",
            " [[[0.04313725]\n",
            "   [0.0627451 ]\n",
            "   [0.06666667]\n",
            "   ...\n",
            "   [0.14117647]\n",
            "   [0.41960784]\n",
            "   [0.78431373]]\n",
            "\n",
            "  [[0.17647059]\n",
            "   [0.16078431]\n",
            "   [0.14901961]\n",
            "   ...\n",
            "   [0.25490196]\n",
            "   [0.4627451 ]\n",
            "   [0.77254902]]\n",
            "\n",
            "  [[0.3372549 ]\n",
            "   [0.3254902 ]\n",
            "   [0.33333333]\n",
            "   ...\n",
            "   [0.35294118]\n",
            "   [0.48627451]\n",
            "   [0.7372549 ]]\n",
            "\n",
            "  ...\n",
            "\n",
            "  [[0.76078431]\n",
            "   [0.76078431]\n",
            "   [0.76078431]\n",
            "   ...\n",
            "   [0.70980392]\n",
            "   [0.65490196]\n",
            "   [0.61960784]]\n",
            "\n",
            "  [[0.78431373]\n",
            "   [0.77647059]\n",
            "   [0.76862745]\n",
            "   ...\n",
            "   [0.74901961]\n",
            "   [0.72941176]\n",
            "   [0.70980392]]\n",
            "\n",
            "  [[0.78823529]\n",
            "   [0.78039216]\n",
            "   [0.76862745]\n",
            "   ...\n",
            "   [0.75294118]\n",
            "   [0.76470588]\n",
            "   [0.76470588]]]\n",
            "\n",
            "\n",
            " [[[0.19215686]\n",
            "   [0.21960784]\n",
            "   [0.25490196]\n",
            "   ...\n",
            "   [0.2745098 ]\n",
            "   [0.16862745]\n",
            "   [0.14901961]]\n",
            "\n",
            "  [[0.34117647]\n",
            "   [0.3372549 ]\n",
            "   [0.30196078]\n",
            "   ...\n",
            "   [0.24705882]\n",
            "   [0.10196078]\n",
            "   [0.04313725]]\n",
            "\n",
            "  [[0.39215686]\n",
            "   [0.4       ]\n",
            "   [0.4       ]\n",
            "   ...\n",
            "   [0.25882353]\n",
            "   [0.15686275]\n",
            "   [0.1254902 ]]\n",
            "\n",
            "  ...\n",
            "\n",
            "  [[0.58823529]\n",
            "   [0.61176471]\n",
            "   [0.64705882]\n",
            "   ...\n",
            "   [0.49803922]\n",
            "   [0.34509804]\n",
            "   [0.18431373]]\n",
            "\n",
            "  [[0.58431373]\n",
            "   [0.60784314]\n",
            "   [0.63921569]\n",
            "   ...\n",
            "   [0.48235294]\n",
            "   [0.29803922]\n",
            "   [0.12941176]]\n",
            "\n",
            "  [[0.58039216]\n",
            "   [0.60392157]\n",
            "   [0.63529412]\n",
            "   ...\n",
            "   [0.45098039]\n",
            "   [0.25490196]\n",
            "   [0.09803922]]]]\n",
            "****************************************************************************************************\n",
            "Y_TEST [1 0 0 0 0 1 1 1 0 0 0 0 1 1 0 1 1 1 1 1 1 1 0 0 0 1 1 1 1 0 1 0 0 1 0 1 1\n",
            " 1 1 1 1 1 1 1 1 1 1 1 1 1 1 0 0 1 1 1 1 1 1 1 1 0 1 1 1 1 1 0 1 1 0 0 1 1\n",
            " 1 1 1 0 1 0 1 1 0 0 1 0 1 1 0 1 0 1 1 0 1 1 1 0 1 1 1 1 1 1 0 1 0 0 1 0 0\n",
            " 0 1 1 0 0 1 1 0 0 1 1 0 1 1 0 0 1 1 1 1 1 1 1 1 1 1 1 0 0 0 0 0 0 0 1 1 1\n",
            " 0 1 0 1 0 0 0 0 0 0 1 0 1 1 1 1 0 1 0 0 1 1 1 1 1 1 0 1 1 1 1 1 1 1 0 1 1\n",
            " 1 1 1 1 1 1 1 1 1 0 1 0 0 0 1 0 0 1 0 0 0 0 0 1 0 0 1 0 1 1 1 0 0 1 1 1 0\n",
            " 0 1 1 0 1 1 1 1 1 0 0 1 1 1 1 0 0 1 1 1 1 0 1 1 1 1 0 0 1 0 0 1 1 1 1 0 1\n",
            " 0 0 1 1 1 1 0 1 0 1 1 1 0 1 1 1 1 0 1 0 1 1 0 0 1 1 0 0 0 0 1 1 0 0 1 0 1\n",
            " 1 1 1 1 1 0 0 1 1 1 1 0 1 1 1 0 1 0 0 0 0 0 1 0 1 1 0 1 0 1 1 0 1 1 0 1 1\n",
            " 0 0 1 1 1 0 0 0 0 0 0 1 0 1 1 0 1 1 0 1 0 1 1 1 0 1 0 1 1 0 1 1 1 0 0 0 1\n",
            " 0 1 0 1 1 1 1 1 0 1 0 1 1 0 1 1 1 1 1 0 0 0 1 0 0 0 1 0 1 1 1 0 1 0 0 1 0\n",
            " 1 1 1 1 1 0 1 0 1 1 0 1 1 0 1 0 0 0 1 1 1 1 1 1 1 1 1 1 0 0 1 1 1 1 1 0 0\n",
            " 1 1 0 0 1 1 1 0 1 1 1 1 0 0 0 1 1 0 0 0 1 1 0 1 1 1 1 1 0 0 0 0 0 1 0 1 1\n",
            " 0 1 1 0 1 1 1 1 1 1 1 1 1 1 1 0 1 1 1 0 0 0 0 1 0 0 0 0 1 1 1 1 1 0 1 1 1\n",
            " 1 0 0 1 1 1 1 1 0 0 1 0 1 1 1 1 0 1 1 0 1 1 0 1 1 1 1 1 0 1 1 1 1 0 1 0 0\n",
            " 0 1 0 1 1 1 1 1 1 1 0 0 1 0 1 1 1 1 1 0 1 0 0 0 0 1 1 0 1 0 1 1 0 1 1 1 1\n",
            " 1 1 1 0 1 0 1 1 1 0 0 0 1 1 0 0 0 0 0 0 1 1 1 1 1 1 1 0 1 1 1 1]\n"
          ]
        }
      ]
    },
    {
      "cell_type": "markdown",
      "source": [
        "Aqui deberia de leerme la explicacion de chatgpt sobre las capas y filtros utilizados Para luego en mi report, explicar la metodologia."
      ],
      "metadata": {
        "id": "fqwCy75LjMZC"
      }
    },
    {
      "cell_type": "code",
      "source": [
        "# first neural network with keras tutorial\n",
        "\n",
        "from tensorflow.keras import models\n",
        "from tensorflow.keras import layers\n",
        "\n",
        "#Create the CNN network (The feature extraction part)\n",
        "model = models.Sequential()\n",
        "model.add(layers.Conv2D(32, (3, 3), activation='relu', input_shape=(28, 28, 1)))\n",
        "model.add(layers.MaxPooling2D((2, 2)))\n",
        "model.add(layers.Conv2D(64, (3, 3), activation='relu'))\n",
        "model.add(layers.MaxPooling2D((2, 2)))\n",
        "model.add(layers.Conv2D(64, (3, 3), activation='relu'))\n",
        "\n",
        "# Display the feature extractor architecture\n",
        "model.summary()\n",
        "\n",
        "#Add the classifier part(Dense/DNN layers)\n",
        "model.add(layers.Flatten())\n",
        "model.add(layers.Dense(64, activation='relu'))\n",
        "model.add(layers.Dense(1, activation = 'sigmoid'))\n",
        "\n",
        "model.summary()\n",
        "\n",
        "model.compile(optimizer='adam',\n",
        "              loss=tf.keras.losses.BinaryCrossentropy(from_logits=False),\n",
        "              metrics=['accuracy'])\n",
        "#fit the model\n",
        "history = model.fit(X_resampled, y_resampled, epochs=25,\n",
        "                    validation_data=(X_test, y_test))"
      ],
      "metadata": {
        "colab": {
          "base_uri": "https://localhost:8080/",
          "height": 1000
        },
        "id": "wmfejYXOBGCW",
        "outputId": "76d5e6b5-8b01-4bfb-8d8b-d7c713b476a7"
      },
      "execution_count": null,
      "outputs": [
        {
          "output_type": "stream",
          "name": "stderr",
          "text": [
            "/usr/local/lib/python3.10/dist-packages/keras/src/layers/convolutional/base_conv.py:107: UserWarning: Do not pass an `input_shape`/`input_dim` argument to a layer. When using Sequential models, prefer using an `Input(shape)` object as the first layer in the model instead.\n",
            "  super().__init__(activity_regularizer=activity_regularizer, **kwargs)\n"
          ]
        },
        {
          "output_type": "display_data",
          "data": {
            "text/plain": [
              "\u001b[1mModel: \"sequential_4\"\u001b[0m\n"
            ],
            "text/html": [
              "<pre style=\"white-space:pre;overflow-x:auto;line-height:normal;font-family:Menlo,'DejaVu Sans Mono',consolas,'Courier New',monospace\"><span style=\"font-weight: bold\">Model: \"sequential_4\"</span>\n",
              "</pre>\n"
            ]
          },
          "metadata": {}
        },
        {
          "output_type": "display_data",
          "data": {
            "text/plain": [
              "┏━━━━━━━━━━━━━━━━━━━━━━━━━━━━━━━━━━━━━━┳━━━━━━━━━━━━━━━━━━━━━━━━━━━━━┳━━━━━━━━━━━━━━━━━┓\n",
              "┃\u001b[1m \u001b[0m\u001b[1mLayer (type)                        \u001b[0m\u001b[1m \u001b[0m┃\u001b[1m \u001b[0m\u001b[1mOutput Shape               \u001b[0m\u001b[1m \u001b[0m┃\u001b[1m \u001b[0m\u001b[1m        Param #\u001b[0m\u001b[1m \u001b[0m┃\n",
              "┡━━━━━━━━━━━━━━━━━━━━━━━━━━━━━━━━━━━━━━╇━━━━━━━━━━━━━━━━━━━━━━━━━━━━━╇━━━━━━━━━━━━━━━━━┩\n",
              "│ conv2d_12 (\u001b[38;5;33mConv2D\u001b[0m)                   │ (\u001b[38;5;45mNone\u001b[0m, \u001b[38;5;34m26\u001b[0m, \u001b[38;5;34m26\u001b[0m, \u001b[38;5;34m32\u001b[0m)          │             \u001b[38;5;34m320\u001b[0m │\n",
              "├──────────────────────────────────────┼─────────────────────────────┼─────────────────┤\n",
              "│ max_pooling2d_8 (\u001b[38;5;33mMaxPooling2D\u001b[0m)       │ (\u001b[38;5;45mNone\u001b[0m, \u001b[38;5;34m13\u001b[0m, \u001b[38;5;34m13\u001b[0m, \u001b[38;5;34m32\u001b[0m)          │               \u001b[38;5;34m0\u001b[0m │\n",
              "├──────────────────────────────────────┼─────────────────────────────┼─────────────────┤\n",
              "│ conv2d_13 (\u001b[38;5;33mConv2D\u001b[0m)                   │ (\u001b[38;5;45mNone\u001b[0m, \u001b[38;5;34m11\u001b[0m, \u001b[38;5;34m11\u001b[0m, \u001b[38;5;34m64\u001b[0m)          │          \u001b[38;5;34m18,496\u001b[0m │\n",
              "├──────────────────────────────────────┼─────────────────────────────┼─────────────────┤\n",
              "│ max_pooling2d_9 (\u001b[38;5;33mMaxPooling2D\u001b[0m)       │ (\u001b[38;5;45mNone\u001b[0m, \u001b[38;5;34m5\u001b[0m, \u001b[38;5;34m5\u001b[0m, \u001b[38;5;34m64\u001b[0m)            │               \u001b[38;5;34m0\u001b[0m │\n",
              "├──────────────────────────────────────┼─────────────────────────────┼─────────────────┤\n",
              "│ conv2d_14 (\u001b[38;5;33mConv2D\u001b[0m)                   │ (\u001b[38;5;45mNone\u001b[0m, \u001b[38;5;34m3\u001b[0m, \u001b[38;5;34m3\u001b[0m, \u001b[38;5;34m64\u001b[0m)            │          \u001b[38;5;34m36,928\u001b[0m │\n",
              "└──────────────────────────────────────┴─────────────────────────────┴─────────────────┘\n"
            ],
            "text/html": [
              "<pre style=\"white-space:pre;overflow-x:auto;line-height:normal;font-family:Menlo,'DejaVu Sans Mono',consolas,'Courier New',monospace\">┏━━━━━━━━━━━━━━━━━━━━━━━━━━━━━━━━━━━━━━┳━━━━━━━━━━━━━━━━━━━━━━━━━━━━━┳━━━━━━━━━━━━━━━━━┓\n",
              "┃<span style=\"font-weight: bold\"> Layer (type)                         </span>┃<span style=\"font-weight: bold\"> Output Shape                </span>┃<span style=\"font-weight: bold\">         Param # </span>┃\n",
              "┡━━━━━━━━━━━━━━━━━━━━━━━━━━━━━━━━━━━━━━╇━━━━━━━━━━━━━━━━━━━━━━━━━━━━━╇━━━━━━━━━━━━━━━━━┩\n",
              "│ conv2d_12 (<span style=\"color: #0087ff; text-decoration-color: #0087ff\">Conv2D</span>)                   │ (<span style=\"color: #00d7ff; text-decoration-color: #00d7ff\">None</span>, <span style=\"color: #00af00; text-decoration-color: #00af00\">26</span>, <span style=\"color: #00af00; text-decoration-color: #00af00\">26</span>, <span style=\"color: #00af00; text-decoration-color: #00af00\">32</span>)          │             <span style=\"color: #00af00; text-decoration-color: #00af00\">320</span> │\n",
              "├──────────────────────────────────────┼─────────────────────────────┼─────────────────┤\n",
              "│ max_pooling2d_8 (<span style=\"color: #0087ff; text-decoration-color: #0087ff\">MaxPooling2D</span>)       │ (<span style=\"color: #00d7ff; text-decoration-color: #00d7ff\">None</span>, <span style=\"color: #00af00; text-decoration-color: #00af00\">13</span>, <span style=\"color: #00af00; text-decoration-color: #00af00\">13</span>, <span style=\"color: #00af00; text-decoration-color: #00af00\">32</span>)          │               <span style=\"color: #00af00; text-decoration-color: #00af00\">0</span> │\n",
              "├──────────────────────────────────────┼─────────────────────────────┼─────────────────┤\n",
              "│ conv2d_13 (<span style=\"color: #0087ff; text-decoration-color: #0087ff\">Conv2D</span>)                   │ (<span style=\"color: #00d7ff; text-decoration-color: #00d7ff\">None</span>, <span style=\"color: #00af00; text-decoration-color: #00af00\">11</span>, <span style=\"color: #00af00; text-decoration-color: #00af00\">11</span>, <span style=\"color: #00af00; text-decoration-color: #00af00\">64</span>)          │          <span style=\"color: #00af00; text-decoration-color: #00af00\">18,496</span> │\n",
              "├──────────────────────────────────────┼─────────────────────────────┼─────────────────┤\n",
              "│ max_pooling2d_9 (<span style=\"color: #0087ff; text-decoration-color: #0087ff\">MaxPooling2D</span>)       │ (<span style=\"color: #00d7ff; text-decoration-color: #00d7ff\">None</span>, <span style=\"color: #00af00; text-decoration-color: #00af00\">5</span>, <span style=\"color: #00af00; text-decoration-color: #00af00\">5</span>, <span style=\"color: #00af00; text-decoration-color: #00af00\">64</span>)            │               <span style=\"color: #00af00; text-decoration-color: #00af00\">0</span> │\n",
              "├──────────────────────────────────────┼─────────────────────────────┼─────────────────┤\n",
              "│ conv2d_14 (<span style=\"color: #0087ff; text-decoration-color: #0087ff\">Conv2D</span>)                   │ (<span style=\"color: #00d7ff; text-decoration-color: #00d7ff\">None</span>, <span style=\"color: #00af00; text-decoration-color: #00af00\">3</span>, <span style=\"color: #00af00; text-decoration-color: #00af00\">3</span>, <span style=\"color: #00af00; text-decoration-color: #00af00\">64</span>)            │          <span style=\"color: #00af00; text-decoration-color: #00af00\">36,928</span> │\n",
              "└──────────────────────────────────────┴─────────────────────────────┴─────────────────┘\n",
              "</pre>\n"
            ]
          },
          "metadata": {}
        },
        {
          "output_type": "display_data",
          "data": {
            "text/plain": [
              "\u001b[1m Total params: \u001b[0m\u001b[38;5;34m55,744\u001b[0m (217.75 KB)\n"
            ],
            "text/html": [
              "<pre style=\"white-space:pre;overflow-x:auto;line-height:normal;font-family:Menlo,'DejaVu Sans Mono',consolas,'Courier New',monospace\"><span style=\"font-weight: bold\"> Total params: </span><span style=\"color: #00af00; text-decoration-color: #00af00\">55,744</span> (217.75 KB)\n",
              "</pre>\n"
            ]
          },
          "metadata": {}
        },
        {
          "output_type": "display_data",
          "data": {
            "text/plain": [
              "\u001b[1m Trainable params: \u001b[0m\u001b[38;5;34m55,744\u001b[0m (217.75 KB)\n"
            ],
            "text/html": [
              "<pre style=\"white-space:pre;overflow-x:auto;line-height:normal;font-family:Menlo,'DejaVu Sans Mono',consolas,'Courier New',monospace\"><span style=\"font-weight: bold\"> Trainable params: </span><span style=\"color: #00af00; text-decoration-color: #00af00\">55,744</span> (217.75 KB)\n",
              "</pre>\n"
            ]
          },
          "metadata": {}
        },
        {
          "output_type": "display_data",
          "data": {
            "text/plain": [
              "\u001b[1m Non-trainable params: \u001b[0m\u001b[38;5;34m0\u001b[0m (0.00 B)\n"
            ],
            "text/html": [
              "<pre style=\"white-space:pre;overflow-x:auto;line-height:normal;font-family:Menlo,'DejaVu Sans Mono',consolas,'Courier New',monospace\"><span style=\"font-weight: bold\"> Non-trainable params: </span><span style=\"color: #00af00; text-decoration-color: #00af00\">0</span> (0.00 B)\n",
              "</pre>\n"
            ]
          },
          "metadata": {}
        },
        {
          "output_type": "display_data",
          "data": {
            "text/plain": [
              "\u001b[1mModel: \"sequential_4\"\u001b[0m\n"
            ],
            "text/html": [
              "<pre style=\"white-space:pre;overflow-x:auto;line-height:normal;font-family:Menlo,'DejaVu Sans Mono',consolas,'Courier New',monospace\"><span style=\"font-weight: bold\">Model: \"sequential_4\"</span>\n",
              "</pre>\n"
            ]
          },
          "metadata": {}
        },
        {
          "output_type": "display_data",
          "data": {
            "text/plain": [
              "┏━━━━━━━━━━━━━━━━━━━━━━━━━━━━━━━━━━━━━━┳━━━━━━━━━━━━━━━━━━━━━━━━━━━━━┳━━━━━━━━━━━━━━━━━┓\n",
              "┃\u001b[1m \u001b[0m\u001b[1mLayer (type)                        \u001b[0m\u001b[1m \u001b[0m┃\u001b[1m \u001b[0m\u001b[1mOutput Shape               \u001b[0m\u001b[1m \u001b[0m┃\u001b[1m \u001b[0m\u001b[1m        Param #\u001b[0m\u001b[1m \u001b[0m┃\n",
              "┡━━━━━━━━━━━━━━━━━━━━━━━━━━━━━━━━━━━━━━╇━━━━━━━━━━━━━━━━━━━━━━━━━━━━━╇━━━━━━━━━━━━━━━━━┩\n",
              "│ conv2d_12 (\u001b[38;5;33mConv2D\u001b[0m)                   │ (\u001b[38;5;45mNone\u001b[0m, \u001b[38;5;34m26\u001b[0m, \u001b[38;5;34m26\u001b[0m, \u001b[38;5;34m32\u001b[0m)          │             \u001b[38;5;34m320\u001b[0m │\n",
              "├──────────────────────────────────────┼─────────────────────────────┼─────────────────┤\n",
              "│ max_pooling2d_8 (\u001b[38;5;33mMaxPooling2D\u001b[0m)       │ (\u001b[38;5;45mNone\u001b[0m, \u001b[38;5;34m13\u001b[0m, \u001b[38;5;34m13\u001b[0m, \u001b[38;5;34m32\u001b[0m)          │               \u001b[38;5;34m0\u001b[0m │\n",
              "├──────────────────────────────────────┼─────────────────────────────┼─────────────────┤\n",
              "│ conv2d_13 (\u001b[38;5;33mConv2D\u001b[0m)                   │ (\u001b[38;5;45mNone\u001b[0m, \u001b[38;5;34m11\u001b[0m, \u001b[38;5;34m11\u001b[0m, \u001b[38;5;34m64\u001b[0m)          │          \u001b[38;5;34m18,496\u001b[0m │\n",
              "├──────────────────────────────────────┼─────────────────────────────┼─────────────────┤\n",
              "│ max_pooling2d_9 (\u001b[38;5;33mMaxPooling2D\u001b[0m)       │ (\u001b[38;5;45mNone\u001b[0m, \u001b[38;5;34m5\u001b[0m, \u001b[38;5;34m5\u001b[0m, \u001b[38;5;34m64\u001b[0m)            │               \u001b[38;5;34m0\u001b[0m │\n",
              "├──────────────────────────────────────┼─────────────────────────────┼─────────────────┤\n",
              "│ conv2d_14 (\u001b[38;5;33mConv2D\u001b[0m)                   │ (\u001b[38;5;45mNone\u001b[0m, \u001b[38;5;34m3\u001b[0m, \u001b[38;5;34m3\u001b[0m, \u001b[38;5;34m64\u001b[0m)            │          \u001b[38;5;34m36,928\u001b[0m │\n",
              "├──────────────────────────────────────┼─────────────────────────────┼─────────────────┤\n",
              "│ flatten_4 (\u001b[38;5;33mFlatten\u001b[0m)                  │ (\u001b[38;5;45mNone\u001b[0m, \u001b[38;5;34m576\u001b[0m)                 │               \u001b[38;5;34m0\u001b[0m │\n",
              "├──────────────────────────────────────┼─────────────────────────────┼─────────────────┤\n",
              "│ dense_8 (\u001b[38;5;33mDense\u001b[0m)                      │ (\u001b[38;5;45mNone\u001b[0m, \u001b[38;5;34m64\u001b[0m)                  │          \u001b[38;5;34m36,928\u001b[0m │\n",
              "├──────────────────────────────────────┼─────────────────────────────┼─────────────────┤\n",
              "│ dense_9 (\u001b[38;5;33mDense\u001b[0m)                      │ (\u001b[38;5;45mNone\u001b[0m, \u001b[38;5;34m1\u001b[0m)                   │              \u001b[38;5;34m65\u001b[0m │\n",
              "└──────────────────────────────────────┴─────────────────────────────┴─────────────────┘\n"
            ],
            "text/html": [
              "<pre style=\"white-space:pre;overflow-x:auto;line-height:normal;font-family:Menlo,'DejaVu Sans Mono',consolas,'Courier New',monospace\">┏━━━━━━━━━━━━━━━━━━━━━━━━━━━━━━━━━━━━━━┳━━━━━━━━━━━━━━━━━━━━━━━━━━━━━┳━━━━━━━━━━━━━━━━━┓\n",
              "┃<span style=\"font-weight: bold\"> Layer (type)                         </span>┃<span style=\"font-weight: bold\"> Output Shape                </span>┃<span style=\"font-weight: bold\">         Param # </span>┃\n",
              "┡━━━━━━━━━━━━━━━━━━━━━━━━━━━━━━━━━━━━━━╇━━━━━━━━━━━━━━━━━━━━━━━━━━━━━╇━━━━━━━━━━━━━━━━━┩\n",
              "│ conv2d_12 (<span style=\"color: #0087ff; text-decoration-color: #0087ff\">Conv2D</span>)                   │ (<span style=\"color: #00d7ff; text-decoration-color: #00d7ff\">None</span>, <span style=\"color: #00af00; text-decoration-color: #00af00\">26</span>, <span style=\"color: #00af00; text-decoration-color: #00af00\">26</span>, <span style=\"color: #00af00; text-decoration-color: #00af00\">32</span>)          │             <span style=\"color: #00af00; text-decoration-color: #00af00\">320</span> │\n",
              "├──────────────────────────────────────┼─────────────────────────────┼─────────────────┤\n",
              "│ max_pooling2d_8 (<span style=\"color: #0087ff; text-decoration-color: #0087ff\">MaxPooling2D</span>)       │ (<span style=\"color: #00d7ff; text-decoration-color: #00d7ff\">None</span>, <span style=\"color: #00af00; text-decoration-color: #00af00\">13</span>, <span style=\"color: #00af00; text-decoration-color: #00af00\">13</span>, <span style=\"color: #00af00; text-decoration-color: #00af00\">32</span>)          │               <span style=\"color: #00af00; text-decoration-color: #00af00\">0</span> │\n",
              "├──────────────────────────────────────┼─────────────────────────────┼─────────────────┤\n",
              "│ conv2d_13 (<span style=\"color: #0087ff; text-decoration-color: #0087ff\">Conv2D</span>)                   │ (<span style=\"color: #00d7ff; text-decoration-color: #00d7ff\">None</span>, <span style=\"color: #00af00; text-decoration-color: #00af00\">11</span>, <span style=\"color: #00af00; text-decoration-color: #00af00\">11</span>, <span style=\"color: #00af00; text-decoration-color: #00af00\">64</span>)          │          <span style=\"color: #00af00; text-decoration-color: #00af00\">18,496</span> │\n",
              "├──────────────────────────────────────┼─────────────────────────────┼─────────────────┤\n",
              "│ max_pooling2d_9 (<span style=\"color: #0087ff; text-decoration-color: #0087ff\">MaxPooling2D</span>)       │ (<span style=\"color: #00d7ff; text-decoration-color: #00d7ff\">None</span>, <span style=\"color: #00af00; text-decoration-color: #00af00\">5</span>, <span style=\"color: #00af00; text-decoration-color: #00af00\">5</span>, <span style=\"color: #00af00; text-decoration-color: #00af00\">64</span>)            │               <span style=\"color: #00af00; text-decoration-color: #00af00\">0</span> │\n",
              "├──────────────────────────────────────┼─────────────────────────────┼─────────────────┤\n",
              "│ conv2d_14 (<span style=\"color: #0087ff; text-decoration-color: #0087ff\">Conv2D</span>)                   │ (<span style=\"color: #00d7ff; text-decoration-color: #00d7ff\">None</span>, <span style=\"color: #00af00; text-decoration-color: #00af00\">3</span>, <span style=\"color: #00af00; text-decoration-color: #00af00\">3</span>, <span style=\"color: #00af00; text-decoration-color: #00af00\">64</span>)            │          <span style=\"color: #00af00; text-decoration-color: #00af00\">36,928</span> │\n",
              "├──────────────────────────────────────┼─────────────────────────────┼─────────────────┤\n",
              "│ flatten_4 (<span style=\"color: #0087ff; text-decoration-color: #0087ff\">Flatten</span>)                  │ (<span style=\"color: #00d7ff; text-decoration-color: #00d7ff\">None</span>, <span style=\"color: #00af00; text-decoration-color: #00af00\">576</span>)                 │               <span style=\"color: #00af00; text-decoration-color: #00af00\">0</span> │\n",
              "├──────────────────────────────────────┼─────────────────────────────┼─────────────────┤\n",
              "│ dense_8 (<span style=\"color: #0087ff; text-decoration-color: #0087ff\">Dense</span>)                      │ (<span style=\"color: #00d7ff; text-decoration-color: #00d7ff\">None</span>, <span style=\"color: #00af00; text-decoration-color: #00af00\">64</span>)                  │          <span style=\"color: #00af00; text-decoration-color: #00af00\">36,928</span> │\n",
              "├──────────────────────────────────────┼─────────────────────────────┼─────────────────┤\n",
              "│ dense_9 (<span style=\"color: #0087ff; text-decoration-color: #0087ff\">Dense</span>)                      │ (<span style=\"color: #00d7ff; text-decoration-color: #00d7ff\">None</span>, <span style=\"color: #00af00; text-decoration-color: #00af00\">1</span>)                   │              <span style=\"color: #00af00; text-decoration-color: #00af00\">65</span> │\n",
              "└──────────────────────────────────────┴─────────────────────────────┴─────────────────┘\n",
              "</pre>\n"
            ]
          },
          "metadata": {}
        },
        {
          "output_type": "display_data",
          "data": {
            "text/plain": [
              "\u001b[1m Total params: \u001b[0m\u001b[38;5;34m92,737\u001b[0m (362.25 KB)\n"
            ],
            "text/html": [
              "<pre style=\"white-space:pre;overflow-x:auto;line-height:normal;font-family:Menlo,'DejaVu Sans Mono',consolas,'Courier New',monospace\"><span style=\"font-weight: bold\"> Total params: </span><span style=\"color: #00af00; text-decoration-color: #00af00\">92,737</span> (362.25 KB)\n",
              "</pre>\n"
            ]
          },
          "metadata": {}
        },
        {
          "output_type": "display_data",
          "data": {
            "text/plain": [
              "\u001b[1m Trainable params: \u001b[0m\u001b[38;5;34m92,737\u001b[0m (362.25 KB)\n"
            ],
            "text/html": [
              "<pre style=\"white-space:pre;overflow-x:auto;line-height:normal;font-family:Menlo,'DejaVu Sans Mono',consolas,'Courier New',monospace\"><span style=\"font-weight: bold\"> Trainable params: </span><span style=\"color: #00af00; text-decoration-color: #00af00\">92,737</span> (362.25 KB)\n",
              "</pre>\n"
            ]
          },
          "metadata": {}
        },
        {
          "output_type": "display_data",
          "data": {
            "text/plain": [
              "\u001b[1m Non-trainable params: \u001b[0m\u001b[38;5;34m0\u001b[0m (0.00 B)\n"
            ],
            "text/html": [
              "<pre style=\"white-space:pre;overflow-x:auto;line-height:normal;font-family:Menlo,'DejaVu Sans Mono',consolas,'Courier New',monospace\"><span style=\"font-weight: bold\"> Non-trainable params: </span><span style=\"color: #00af00; text-decoration-color: #00af00\">0</span> (0.00 B)\n",
              "</pre>\n"
            ]
          },
          "metadata": {}
        },
        {
          "output_type": "stream",
          "name": "stdout",
          "text": [
            "Epoch 1/25\n",
            "\u001b[1m219/219\u001b[0m \u001b[32m━━━━━━━━━━━━━━━━━━━━\u001b[0m\u001b[37m\u001b[0m \u001b[1m10s\u001b[0m 37ms/step - accuracy: 0.7809 - loss: 0.4484 - val_accuracy: 0.8670 - val_loss: 0.3567\n",
            "Epoch 2/25\n",
            "\u001b[1m219/219\u001b[0m \u001b[32m━━━━━━━━━━━━━━━━━━━━\u001b[0m\u001b[37m\u001b[0m \u001b[1m11s\u001b[0m 39ms/step - accuracy: 0.9441 - loss: 0.1547 - val_accuracy: 0.8878 - val_loss: 0.3382\n",
            "Epoch 3/25\n",
            "\u001b[1m219/219\u001b[0m \u001b[32m━━━━━━━━━━━━━━━━━━━━\u001b[0m\u001b[37m\u001b[0m \u001b[1m7s\u001b[0m 30ms/step - accuracy: 0.9524 - loss: 0.1298 - val_accuracy: 0.8798 - val_loss: 0.3501\n",
            "Epoch 4/25\n",
            "\u001b[1m219/219\u001b[0m \u001b[32m━━━━━━━━━━━━━━━━━━━━\u001b[0m\u001b[37m\u001b[0m \u001b[1m8s\u001b[0m 38ms/step - accuracy: 0.9643 - loss: 0.0999 - val_accuracy: 0.8702 - val_loss: 0.4480\n",
            "Epoch 5/25\n",
            "\u001b[1m219/219\u001b[0m \u001b[32m━━━━━━━━━━━━━━━━━━━━\u001b[0m\u001b[37m\u001b[0m \u001b[1m7s\u001b[0m 30ms/step - accuracy: 0.9609 - loss: 0.1026 - val_accuracy: 0.8798 - val_loss: 0.4210\n",
            "Epoch 6/25\n",
            "\u001b[1m219/219\u001b[0m \u001b[32m━━━━━━━━━━━━━━━━━━━━\u001b[0m\u001b[37m\u001b[0m \u001b[1m11s\u001b[0m 35ms/step - accuracy: 0.9623 - loss: 0.0900 - val_accuracy: 0.8654 - val_loss: 0.4575\n",
            "Epoch 7/25\n",
            "\u001b[1m219/219\u001b[0m \u001b[32m━━━━━━━━━━━━━━━━━━━━\u001b[0m\u001b[37m\u001b[0m \u001b[1m8s\u001b[0m 34ms/step - accuracy: 0.9709 - loss: 0.0761 - val_accuracy: 0.8990 - val_loss: 0.3334\n",
            "Epoch 8/25\n",
            "\u001b[1m219/219\u001b[0m \u001b[32m━━━━━━━━━━━━━━━━━━━━\u001b[0m\u001b[37m\u001b[0m \u001b[1m7s\u001b[0m 33ms/step - accuracy: 0.9765 - loss: 0.0721 - val_accuracy: 0.8462 - val_loss: 0.6516\n",
            "Epoch 9/25\n",
            "\u001b[1m219/219\u001b[0m \u001b[32m━━━━━━━━━━━━━━━━━━━━\u001b[0m\u001b[37m\u001b[0m \u001b[1m8s\u001b[0m 36ms/step - accuracy: 0.9756 - loss: 0.0652 - val_accuracy: 0.9119 - val_loss: 0.3271\n",
            "Epoch 10/25\n",
            "\u001b[1m219/219\u001b[0m \u001b[32m━━━━━━━━━━━━━━━━━━━━\u001b[0m\u001b[37m\u001b[0m \u001b[1m9s\u001b[0m 30ms/step - accuracy: 0.9785 - loss: 0.0637 - val_accuracy: 0.9006 - val_loss: 0.3962\n",
            "Epoch 11/25\n",
            "\u001b[1m219/219\u001b[0m \u001b[32m━━━━━━━━━━━━━━━━━━━━\u001b[0m\u001b[37m\u001b[0m \u001b[1m9s\u001b[0m 39ms/step - accuracy: 0.9795 - loss: 0.0542 - val_accuracy: 0.8942 - val_loss: 0.4109\n",
            "Epoch 12/25\n",
            "\u001b[1m219/219\u001b[0m \u001b[32m━━━━━━━━━━━━━━━━━━━━\u001b[0m\u001b[37m\u001b[0m \u001b[1m8s\u001b[0m 30ms/step - accuracy: 0.9811 - loss: 0.0504 - val_accuracy: 0.8734 - val_loss: 0.5565\n",
            "Epoch 13/25\n",
            "\u001b[1m219/219\u001b[0m \u001b[32m━━━━━━━━━━━━━━━━━━━━\u001b[0m\u001b[37m\u001b[0m \u001b[1m8s\u001b[0m 37ms/step - accuracy: 0.9837 - loss: 0.0441 - val_accuracy: 0.8894 - val_loss: 0.4995\n",
            "Epoch 14/25\n",
            "\u001b[1m219/219\u001b[0m \u001b[32m━━━━━━━━━━━━━━━━━━━━\u001b[0m\u001b[37m\u001b[0m \u001b[1m10s\u001b[0m 38ms/step - accuracy: 0.9841 - loss: 0.0440 - val_accuracy: 0.8670 - val_loss: 0.5545\n",
            "Epoch 15/25\n",
            "\u001b[1m219/219\u001b[0m \u001b[32m━━━━━━━━━━━━━━━━━━━━\u001b[0m\u001b[37m\u001b[0m \u001b[1m7s\u001b[0m 30ms/step - accuracy: 0.9878 - loss: 0.0398 - val_accuracy: 0.8958 - val_loss: 0.5440\n",
            "Epoch 16/25\n",
            "\u001b[1m219/219\u001b[0m \u001b[32m━━━━━━━━━━━━━━━━━━━━\u001b[0m\u001b[37m\u001b[0m \u001b[1m12s\u001b[0m 39ms/step - accuracy: 0.9872 - loss: 0.0359 - val_accuracy: 0.8702 - val_loss: 0.6358\n",
            "Epoch 17/25\n",
            "\u001b[1m219/219\u001b[0m \u001b[32m━━━━━━━━━━━━━━━━━━━━\u001b[0m\u001b[37m\u001b[0m \u001b[1m9s\u001b[0m 35ms/step - accuracy: 0.9885 - loss: 0.0329 - val_accuracy: 0.8574 - val_loss: 0.8780\n",
            "Epoch 18/25\n",
            "\u001b[1m219/219\u001b[0m \u001b[32m━━━━━━━━━━━━━━━━━━━━\u001b[0m\u001b[37m\u001b[0m \u001b[1m7s\u001b[0m 33ms/step - accuracy: 0.9892 - loss: 0.0317 - val_accuracy: 0.8686 - val_loss: 0.6966\n",
            "Epoch 19/25\n",
            "\u001b[1m219/219\u001b[0m \u001b[32m━━━━━━━━━━━━━━━━━━━━\u001b[0m\u001b[37m\u001b[0m \u001b[1m8s\u001b[0m 36ms/step - accuracy: 0.9901 - loss: 0.0311 - val_accuracy: 0.8734 - val_loss: 0.7606\n",
            "Epoch 20/25\n",
            "\u001b[1m219/219\u001b[0m \u001b[32m━━━━━━━━━━━━━━━━━━━━\u001b[0m\u001b[37m\u001b[0m \u001b[1m9s\u001b[0m 30ms/step - accuracy: 0.9923 - loss: 0.0234 - val_accuracy: 0.9071 - val_loss: 0.4557\n",
            "Epoch 21/25\n",
            "\u001b[1m219/219\u001b[0m \u001b[32m━━━━━━━━━━━━━━━━━━━━\u001b[0m\u001b[37m\u001b[0m \u001b[1m10s\u001b[0m 30ms/step - accuracy: 0.9925 - loss: 0.0251 - val_accuracy: 0.8766 - val_loss: 0.7278\n",
            "Epoch 22/25\n",
            "\u001b[1m219/219\u001b[0m \u001b[32m━━━━━━━━━━━━━━━━━━━━\u001b[0m\u001b[37m\u001b[0m \u001b[1m8s\u001b[0m 38ms/step - accuracy: 0.9928 - loss: 0.0210 - val_accuracy: 0.8189 - val_loss: 1.2154\n",
            "Epoch 23/25\n",
            "\u001b[1m219/219\u001b[0m \u001b[32m━━━━━━━━━━━━━━━━━━━━\u001b[0m\u001b[37m\u001b[0m \u001b[1m6s\u001b[0m 30ms/step - accuracy: 0.9883 - loss: 0.0321 - val_accuracy: 0.8750 - val_loss: 0.7351\n",
            "Epoch 24/25\n",
            "\u001b[1m219/219\u001b[0m \u001b[32m━━━━━━━━━━━━━━━━━━━━\u001b[0m\u001b[37m\u001b[0m \u001b[1m9s\u001b[0m 39ms/step - accuracy: 0.9956 - loss: 0.0134 - val_accuracy: 0.8526 - val_loss: 1.0661\n",
            "Epoch 25/25\n",
            "\u001b[1m219/219\u001b[0m \u001b[32m━━━━━━━━━━━━━━━━━━━━\u001b[0m\u001b[37m\u001b[0m \u001b[1m8s\u001b[0m 30ms/step - accuracy: 0.9959 - loss: 0.0145 - val_accuracy: 0.8766 - val_loss: 1.0267\n"
          ]
        }
      ]
    },
    {
      "cell_type": "code",
      "source": [
        "from sklearn.metrics import accuracy_score, classification_report, confusion_matrix\n",
        "\n",
        "\n",
        "y_pred = model.predict(X_test)\n",
        "y_pred_class = (y_pred > 0.5).astype(int)\n",
        "\n",
        "# Calculate confusion matrix\n",
        "print(\"CONFUSION MATRIX\")\n",
        "cm = confusion_matrix(y_test, y_pred_class)\n",
        "print(cm)\n",
        "#classification report\n",
        "print(\"Classification Report:\")\n",
        "report = classification_report(y_test, y_pred_class, target_names=[\"Class 0\", \"Class 1\"])\n",
        "print(report)"
      ],
      "metadata": {
        "colab": {
          "base_uri": "https://localhost:8080/"
        },
        "id": "41KS3R4TDUxV",
        "outputId": "e0c13a14-b3c3-4cad-d42b-a1e2d94a6e46"
      },
      "execution_count": null,
      "outputs": [
        {
          "output_type": "stream",
          "name": "stdout",
          "text": [
            "\u001b[1m20/20\u001b[0m \u001b[32m━━━━━━━━━━━━━━━━━━━━\u001b[0m\u001b[37m\u001b[0m \u001b[1m0s\u001b[0m 16ms/step\n",
            "CONFUSION MATRIX\n",
            "[[160  74]\n",
            " [  3 387]]\n",
            "Classification Report:\n",
            "              precision    recall  f1-score   support\n",
            "\n",
            "     Class 0       0.98      0.68      0.81       234\n",
            "     Class 1       0.84      0.99      0.91       390\n",
            "\n",
            "    accuracy                           0.88       624\n",
            "   macro avg       0.91      0.84      0.86       624\n",
            "weighted avg       0.89      0.88      0.87       624\n",
            "\n"
          ]
        }
      ]
    }
  ]
}